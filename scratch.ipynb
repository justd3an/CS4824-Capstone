{
 "cells": [
  {
   "cell_type": "code",
   "execution_count": null,
   "id": "48c5213a",
   "metadata": {},
   "outputs": [],
   "source": [
    "import numpy as np\n",
    "import matplotlib.pyplot as plt\n",
    "import torch\n",
    "from scipy.integrate import solve_ivp"
   ]
  },
  {
   "cell_type": "code",
   "execution_count": null,
   "id": "943453da",
   "metadata": {},
   "outputs": [],
   "source": [
    "class LotkaVolteraNN(torch.nn.Module):\n",
    "    def __init__(self, input_dim = 2, hidden_dim = 32, output_dim=2):\n",
    "        super().__init__()\n",
    "        self.net = torch.nn.Sequential(\n",
    "            torch.nn.Linear(input_dim, hidden_dim),\n",
    "            torch.nn.Tanh(),\n",
    "            torch.nn.Linear(hidden_dim, hidden_dim),\n",
    "            torch.nn.Tanh()\n",
    "            torch.nn.Linear(hidden_dim, output_dim)\n",
    "        )\n",
    "    def forward(self, t, y):\n",
    "        return self.net(y)\n",
    "\n",
    "class LotkaVolterraUDE(torch.nn.Module):\n",
    "    def __init__(self, alpha, beta, delta, gamma, nn_model):\n",
    "        super().__init__()\n",
    "        self.alpha = alpha\n",
    "        self.beta = beta\n",
    "        self.delta = delta \n",
    "        self.gamma = gamma\n",
    "        self.nn_model == nn_model\n",
    "    def forward(self, t, sol):\n",
    "        x, y = sol[..., 0], sol[..., 1]\n",
    "        base_dxdt = self.alpha * x - self.beta * x * y\n",
    "        base_dydt = self.delta * x * y - self.gamma * y\n",
    "        correction = self.nn_model(t, torch.stack([x, y], dim = -1))\n",
    "        dxdt = base_dxdt + correction[..., 0]\n",
    "        dydt = base_dydt + correction[..., 1]\n",
    "\n",
    "        return torch.stack([dxdt, dydt], dim=-1)\n",
    "\n",
    "\n",
    "        \n",
    "        \n"
   ]
  }
 ],
 "metadata": {
  "kernelspec": {
   "display_name": ".capstone",
   "language": "python",
   "name": "python3"
  },
  "language_info": {
   "codemirror_mode": {
    "name": "ipython",
    "version": 3
   },
   "file_extension": ".py",
   "mimetype": "text/x-python",
   "name": "python",
   "nbconvert_exporter": "python",
   "pygments_lexer": "ipython3",
   "version": "3.12.3"
  }
 },
 "nbformat": 4,
 "nbformat_minor": 5
}
